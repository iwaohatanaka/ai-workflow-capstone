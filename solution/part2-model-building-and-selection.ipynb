{
 "cells": [
  {
   "cell_type": "markdown",
   "metadata": {},
   "source": [
    "# Model Building and Selection"
   ]
  },
  {
   "cell_type": "code",
   "execution_count": 33,
   "metadata": {},
   "outputs": [],
   "source": [
    "import os\n",
    "import time\n",
    "import numpy as np\n",
    "\n",
    "from sklearn.pipeline import Pipeline\n",
    "from sklearn.ensemble import RandomForestRegressor, GradientBoostingRegressor\n",
    "from sklearn.tree import DecisionTreeRegressor\n",
    "from sklearn.model_selection import train_test_split, GridSearchCV\n",
    "from sklearn.preprocessing import StandardScaler\n",
    "from sklearn.metrics import mean_absolute_error, mean_squared_error, r2_score\n",
    "\n",
    "from src.cslib import fetch_ts, engineer_features"
   ]
  },
  {
   "cell_type": "code",
   "execution_count": 34,
   "metadata": {},
   "outputs": [
    {
     "name": "stdout",
     "output_type": "stream",
     "text": [
      "... loading ts data from files\n"
     ]
    }
   ],
   "source": [
    "# Get time series data from source training data files\n",
    "data_dir = os.path.join(\"data\",\"cs-train\")\n",
    "# Get time series data frames\n",
    "time_series_dfs = fetch_ts(data_dir, clean=False)"
   ]
  },
  {
   "cell_type": "code",
   "execution_count": 35,
   "metadata": {},
   "outputs": [],
   "source": [
    "# Get features from time series data\n",
    "X,y,dates = engineer_features(time_series_dfs['all'])\n",
    "        \n",
    "# Get train-test split\n",
    "X_train, X_test, y_train, y_test = train_test_split(X, y, test_size=0.25, shuffle=True, random_state=42)"
   ]
  },
  {
   "cell_type": "code",
   "execution_count": 36,
   "metadata": {},
   "outputs": [
    {
     "name": "stdout",
     "output_type": "stream",
     "text": [
      "Model: Random Forest\n",
      "r2_score: 0.932\n",
      "Mean absolute error: 14689\n",
      "Mean squared error: 443408770\n",
      "Grid best params:  {'rf__criterion': 'mae', 'rf__n_estimators': 20}\n",
      "Train time:  00:00:04\n"
     ]
    }
   ],
   "source": [
    "# Initialize start time\n",
    "time_start = time.time()\n",
    "\n",
    "# Create pipeline with Random Forest estimator\n",
    "pipeline_rf = Pipeline(steps=[('scaler', StandardScaler()), ('rf', RandomForestRegressor())])\n",
    "\n",
    "# Initialize grid search parameters\n",
    "param_grid_rf = {\n",
    "    'rf__criterion': ['mse','mae'],\n",
    "    'rf__n_estimators': [10,15,20,25]\n",
    "    }\n",
    "# Create grid search for Random Forest model\n",
    "grid = GridSearchCV(pipeline_rf, param_grid=param_grid_rf, cv=5, iid=False, n_jobs=-1)\n",
    "# Fit the model with training data\n",
    "grid.fit(X_train, y_train)\n",
    "# Get model predictions\n",
    "y_pred = grid.predict(X_test)\n",
    "\n",
    "# Get mean absolute error\n",
    "mae_rf = mean_absolute_error(y_test, y_pred)\n",
    "# Get mean squared error\n",
    "mse_rf = mean_squared_error(y_test, y_pred)\n",
    "# Get r2 score\n",
    "r2_score_rf = r2_score(y_test, y_pred)\n",
    "\n",
    "# Initialize end time\n",
    "time_end = time.time()\n",
    "\n",
    "# Display results\n",
    "print(\"Model: Random Forest\")\n",
    "print(\"r2_score: {:.3f}\".format(r2_score_rf))\n",
    "print(\"Mean absolute error: {:.0f}\".format(mae_rf))\n",
    "print(\"Mean squared error: {:.0f}\".format(mse_rf))\n",
    "print(\"Grid best params: \", grid.best_params_)\n",
    "print(\"Train time: \", time.strftime('%H:%M:%S', time.gmtime(time_end-time_start)))"
   ]
  },
  {
   "cell_type": "code",
   "execution_count": 37,
   "metadata": {},
   "outputs": [
    {
     "name": "stdout",
     "output_type": "stream",
     "text": [
      "Model: Decision Tree\n",
      "r2_score: 0.931\n",
      "Mean absolute error: 12665\n",
      "Mean squared error: 450231606\n",
      "Grid best params:  {'dt__criterion': 'mse', 'dt__max_depth': 10, 'dt__min_samples_leaf': 2}\n",
      "Train time:  00:00:00\n"
     ]
    }
   ],
   "source": [
    "# Initialize start time\n",
    "time_start = time.time()\n",
    "\n",
    "# Create pipeline with Decision Tree estimator\n",
    "pipeline_dt = Pipeline(steps=[('scaler', StandardScaler()), ('dt', DecisionTreeRegressor())])\n",
    "\n",
    "# Initialize grid search parameters\n",
    "param_grid_dt = {\n",
    "    'dt__criterion': ['mse','mae'],\n",
    "    'dt__max_depth': [5,10,20,50],\n",
    "    'dt__min_samples_leaf': [1,2,3,4,5]\n",
    "    }\n",
    "# Create grid search for Decision Tree model\n",
    "grid = GridSearchCV(pipeline_dt, param_grid=param_grid_dt, cv=5, iid=False, n_jobs=-1)\n",
    "# Fit the model with training data\n",
    "grid.fit(X_train, y_train)\n",
    "# Get model predictions\n",
    "y_pred = grid.predict(X_test)\n",
    "\n",
    "# Get mean absolute error\n",
    "mae_dt = mean_absolute_error(y_test, y_pred)\n",
    "# Get mean squared error\n",
    "mse_dt = mean_squared_error(y_test, y_pred)\n",
    "# Get r2 score\n",
    "r2_score_dt = r2_score(y_test, y_pred)\n",
    "\n",
    "# Initialize end time\n",
    "time_end = time.time()\n",
    "\n",
    "# Display results\n",
    "print(\"Model: Decision Tree\")\n",
    "print(\"r2_score: {:.3f}\".format(r2_score_dt))\n",
    "print(\"Mean absolute error: {:.0f}\".format(mae_dt))\n",
    "print(\"Mean squared error: {:.0f}\".format(mse_dt))\n",
    "print(\"Grid best params: \", grid.best_params_)\n",
    "print(\"Train time: \", time.strftime('%H:%M:%S', time.gmtime(time_end-time_start)))"
   ]
  },
  {
   "cell_type": "code",
   "execution_count": 38,
   "metadata": {},
   "outputs": [
    {
     "name": "stdout",
     "output_type": "stream",
     "text": [
      "Model: Gradient Boosting\n",
      "r2_score: 0.861\n",
      "Mean absolute error: 24178\n",
      "Mean squared error: 910075471\n",
      "Grid best params:  {'gb__criterion': 'mse', 'gb__n_estimators': 25}\n",
      "Train time:  00:00:01\n"
     ]
    }
   ],
   "source": [
    "# Initialize start time\n",
    "time_start = time.time()\n",
    "\n",
    "# Create pipeline with Gradient Boosting estimator\n",
    "pipeline_gb = Pipeline(steps=[('scaler', StandardScaler()), ('gb', GradientBoostingRegressor())])\n",
    "\n",
    "# Initialize grid search parameters\n",
    "param_grid_gb = {\n",
    "    'gb__criterion': ['mse','mae'],\n",
    "    'gb__n_estimators': [10,15,20,25]\n",
    "    }\n",
    "# Create grid search\n",
    "grid = GridSearchCV(pipeline_gb, param_grid=param_grid_gb, cv=5, iid=False, n_jobs=-1)\n",
    "# Fit the model with training data\n",
    "grid.fit(X_train, y_train)\n",
    "# Get model predictions\n",
    "y_pred = grid.predict(X_test)\n",
    "\n",
    "# Get mean absolute error\n",
    "mae_gb = mean_absolute_error(y_test, y_pred)\n",
    "# Get mean squared error\n",
    "mse_gb = mean_squared_error(y_test, y_pred)\n",
    "# Get r2 score\n",
    "r2_score_gb = r2_score(y_test, y_pred)\n",
    "\n",
    "# Initialize end time\n",
    "time_end = time.time()\n",
    "\n",
    "# Display results\n",
    "print(\"Model: Gradient Boosting\")\n",
    "print(\"r2_score: {:.3f}\".format(r2_score_gb))\n",
    "print(\"Mean absolute error: {:.0f}\".format(mae_gb))\n",
    "print(\"Mean squared error: {:.0f}\".format(mse_gb))\n",
    "print(\"Grid best params: \", grid.best_params_)\n",
    "print(\"Train time: \", time.strftime('%H:%M:%S', time.gmtime(time_end-time_start)))"
   ]
  },
  {
   "cell_type": "markdown",
   "metadata": {},
   "source": [
    "# Summarize Findings"
   ]
  },
  {
   "cell_type": "markdown",
   "metadata": {},
   "source": [
    "**Model Building and Selection:**\n",
    "<br>The following models were built and tested:\n",
    "* Random Forest\n",
    "* Decision Tree\n",
    "* Gradient Boosting\n",
    "\n",
    "<br>The following performance parameters were evaluated:\n",
    "* R-squared score\n",
    "* Mean absolute error\n",
    "* Mean squared error\n",
    "* Train time\n",
    "\n",
    "**Findings:**\n",
    "* Random Forest model was the top performer"
   ]
  },
  {
   "cell_type": "code",
   "execution_count": null,
   "metadata": {},
   "outputs": [],
   "source": []
  }
 ],
 "metadata": {
  "kernelspec": {
   "display_name": "Python 3",
   "language": "python",
   "name": "python3"
  },
  "language_info": {
   "codemirror_mode": {
    "name": "ipython",
    "version": 3
   },
   "file_extension": ".py",
   "mimetype": "text/x-python",
   "name": "python",
   "nbconvert_exporter": "python",
   "pygments_lexer": "ipython3",
   "version": "3.7.4"
  }
 },
 "nbformat": 4,
 "nbformat_minor": 2
}
